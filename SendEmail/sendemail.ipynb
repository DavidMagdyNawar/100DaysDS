{
 "cells": [
  {
   "cell_type": "code",
   "execution_count": 19,
   "metadata": {
    "ExecuteTime": {
     "end_time": "2020-06-15T01:53:34.332389Z",
     "start_time": "2020-06-15T01:53:34.327316Z"
    },
    "deletable": false,
    "editable": false
   },
   "outputs": [],
   "source": [
    "#_*_ coding: utf-8 _*_#\n",
    "import os\n",
    "\n",
    "import smtplib\n",
    "import email, ssl\n",
    "from email.mime.multipart import MIMEMultipart\n",
    "from email.mime.text import MIMEText\n",
    "from email.mime.application import MIMEApplication\n",
    "from email.utils import formataddr\n",
    "from email import encoders\n",
    "from email.mime.base import MIMEBase\n",
    "\n",
    "import configparser\n",
    "\n",
    "import time\n",
    "from datetime import datetime\n",
    "\n",
    "import shutil"
   ]
  },
  {
   "cell_type": "code",
   "execution_count": 20,
   "metadata": {
    "ExecuteTime": {
     "end_time": "2020-06-15T01:53:37.086389Z",
     "start_time": "2020-06-15T01:53:37.078590Z"
    },
    "deletable": false,
    "editable": false
   },
   "outputs": [],
   "source": [
    "def sendemail(sender_name, sender_email, sender_passwd, recipient, subject, messages):    \n",
    "    message = MIMEMultipart()\n",
    "    \n",
    "    message[\"From\"] = formataddr((sender_name, sender_email))\n",
    "    message[\"To\"] = recipient\n",
    "    message[\"Subject\"] = subject\n",
    "    \n",
    "    # Add body to email\n",
    "    message.attach(MIMEText(messages, \"html\"))\n",
    "    \n",
    "    with open(\"salesreport/daily_sales_report.pdf\", \"rb\") as attachment:\n",
    "        # Add file as application/octet-stream\n",
    "        # Email client can usually download this automatically as attachment\n",
    "        part = MIMEBase(\"application\", \"octet-stream\")\n",
    "        part.set_payload(attachment.read())\n",
    "\n",
    "    # Encode file in ASCII characters to send by email    \n",
    "    encoders.encode_base64(part)\n",
    "\n",
    "    # Add header as key/value pair to attachment part\n",
    "    part.add_header(\n",
    "        \"Content-Disposition\",\n",
    "        f\"attachment; filename=daily_sales_report.pdf\",\n",
    "    )\n",
    "    \n",
    "    message.attach(part)\n",
    "    text = message.as_string()\n",
    "\n",
    "    # Log in to server using secure context and send email\n",
    "    server = smtplib.SMTP('192.168.0.8', 25)\n",
    "    server.starttls()\n",
    "    server.login(sender_email, sender_passwd)\n",
    "    server.sendmail(sender_email, recipient , text)\n",
    "    server.quit()"
   ]
  },
  {
   "cell_type": "code",
   "execution_count": 21,
   "metadata": {
    "ExecuteTime": {
     "end_time": "2020-06-15T01:53:37.834737Z",
     "start_time": "2020-06-15T01:53:37.758512Z"
    },
    "deletable": false,
    "editable": false
   },
   "outputs": [],
   "source": [
    "if __name__ == '__main__':\n",
    "    now = datetime.now()\n",
    "    \n",
    "    sender_name = 'Daily Sales Report'\n",
    "    sender_email = 'reportcentre@testing.com'\n",
    "    sender_passwd = '9pKR3dgy4gFF'\n",
    "    recipient = 'salesmanager@testing.com'\n",
    "    subject = 'Daily Sales Report - ' + str(now)\n",
    "    \n",
    "    messages = '<p>Hi Manager</p><p>Attached is the daily sales report.</p>\\\n",
    "    <span>***This is an automatically generated email, please do not reply to this message.***</span></p>'\n",
    "    \n",
    "    try:\n",
    "        sendemail(sender_name, sender_email, sender_passwd, recipient, subject, messages)\n",
    "    except:\n",
    "        print('eMail could not be sent')"
   ]
  }
 ],
 "metadata": {
  "kernelspec": {
   "display_name": "Python 3",
   "language": "python",
   "name": "python3"
  },
  "language_info": {
   "codemirror_mode": {
    "name": "ipython",
    "version": 3
   },
   "file_extension": ".py",
   "mimetype": "text/x-python",
   "name": "python",
   "nbconvert_exporter": "python",
   "pygments_lexer": "ipython3",
   "version": "3.7.4"
  }
 },
 "nbformat": 4,
 "nbformat_minor": 2
}
